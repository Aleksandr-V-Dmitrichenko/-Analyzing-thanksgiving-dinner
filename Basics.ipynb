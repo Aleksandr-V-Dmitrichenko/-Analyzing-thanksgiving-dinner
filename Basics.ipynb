{
 "cells": [
  {
   "cell_type": "code",
   "execution_count": 1,
   "metadata": {},
   "outputs": [
    {
     "data": {
      "text/html": [
       "<div>\n",
       "<style>\n",
       "    .dataframe thead tr:only-child th {\n",
       "        text-align: right;\n",
       "    }\n",
       "\n",
       "    .dataframe thead th {\n",
       "        text-align: left;\n",
       "    }\n",
       "\n",
       "    .dataframe tbody tr th {\n",
       "        vertical-align: top;\n",
       "    }\n",
       "</style>\n",
       "<table border=\"1\" class=\"dataframe\">\n",
       "  <thead>\n",
       "    <tr style=\"text-align: right;\">\n",
       "      <th></th>\n",
       "      <th>RespondentID</th>\n",
       "      <th>Do you celebrate Thanksgiving?</th>\n",
       "      <th>What is typically the main dish at your Thanksgiving dinner?</th>\n",
       "      <th>What is typically the main dish at your Thanksgiving dinner? - Other (please specify)</th>\n",
       "      <th>How is the main dish typically cooked?</th>\n",
       "      <th>How is the main dish typically cooked? - Other (please specify)</th>\n",
       "      <th>What kind of stuffing/dressing do you typically have?</th>\n",
       "      <th>What kind of stuffing/dressing do you typically have? - Other (please specify)</th>\n",
       "      <th>What type of cranberry saucedo you typically have?</th>\n",
       "      <th>What type of cranberry saucedo you typically have? - Other (please specify)</th>\n",
       "      <th>...</th>\n",
       "      <th>Have you ever tried to meet up with hometown friends on Thanksgiving night?</th>\n",
       "      <th>Have you ever attended a \"Friendsgiving?\"</th>\n",
       "      <th>Will you shop any Black Friday sales on Thanksgiving Day?</th>\n",
       "      <th>Do you work in retail?</th>\n",
       "      <th>Will you employer make you work on Black Friday?</th>\n",
       "      <th>How would you describe where you live?</th>\n",
       "      <th>Age</th>\n",
       "      <th>What is your gender?</th>\n",
       "      <th>How much total combined money did all members of your HOUSEHOLD earn last year?</th>\n",
       "      <th>US Region</th>\n",
       "    </tr>\n",
       "  </thead>\n",
       "  <tbody>\n",
       "    <tr>\n",
       "      <th>0</th>\n",
       "      <td>4337954960</td>\n",
       "      <td>Yes</td>\n",
       "      <td>Turkey</td>\n",
       "      <td>NaN</td>\n",
       "      <td>Baked</td>\n",
       "      <td>NaN</td>\n",
       "      <td>Bread-based</td>\n",
       "      <td>NaN</td>\n",
       "      <td>None</td>\n",
       "      <td>NaN</td>\n",
       "      <td>...</td>\n",
       "      <td>Yes</td>\n",
       "      <td>No</td>\n",
       "      <td>No</td>\n",
       "      <td>No</td>\n",
       "      <td>NaN</td>\n",
       "      <td>Suburban</td>\n",
       "      <td>18 - 29</td>\n",
       "      <td>Male</td>\n",
       "      <td>$75,000 to $99,999</td>\n",
       "      <td>Middle Atlantic</td>\n",
       "    </tr>\n",
       "    <tr>\n",
       "      <th>1</th>\n",
       "      <td>4337951949</td>\n",
       "      <td>Yes</td>\n",
       "      <td>Turkey</td>\n",
       "      <td>NaN</td>\n",
       "      <td>Baked</td>\n",
       "      <td>NaN</td>\n",
       "      <td>Bread-based</td>\n",
       "      <td>NaN</td>\n",
       "      <td>Other (please specify)</td>\n",
       "      <td>Homemade cranberry gelatin ring</td>\n",
       "      <td>...</td>\n",
       "      <td>No</td>\n",
       "      <td>No</td>\n",
       "      <td>Yes</td>\n",
       "      <td>No</td>\n",
       "      <td>NaN</td>\n",
       "      <td>Rural</td>\n",
       "      <td>18 - 29</td>\n",
       "      <td>Female</td>\n",
       "      <td>$50,000 to $74,999</td>\n",
       "      <td>East South Central</td>\n",
       "    </tr>\n",
       "    <tr>\n",
       "      <th>2</th>\n",
       "      <td>4337935621</td>\n",
       "      <td>Yes</td>\n",
       "      <td>Turkey</td>\n",
       "      <td>NaN</td>\n",
       "      <td>Roasted</td>\n",
       "      <td>NaN</td>\n",
       "      <td>Rice-based</td>\n",
       "      <td>NaN</td>\n",
       "      <td>Homemade</td>\n",
       "      <td>NaN</td>\n",
       "      <td>...</td>\n",
       "      <td>Yes</td>\n",
       "      <td>Yes</td>\n",
       "      <td>Yes</td>\n",
       "      <td>No</td>\n",
       "      <td>NaN</td>\n",
       "      <td>Suburban</td>\n",
       "      <td>18 - 29</td>\n",
       "      <td>Male</td>\n",
       "      <td>$0 to $9,999</td>\n",
       "      <td>Mountain</td>\n",
       "    </tr>\n",
       "    <tr>\n",
       "      <th>3</th>\n",
       "      <td>4337933040</td>\n",
       "      <td>Yes</td>\n",
       "      <td>Turkey</td>\n",
       "      <td>NaN</td>\n",
       "      <td>Baked</td>\n",
       "      <td>NaN</td>\n",
       "      <td>Bread-based</td>\n",
       "      <td>NaN</td>\n",
       "      <td>Homemade</td>\n",
       "      <td>NaN</td>\n",
       "      <td>...</td>\n",
       "      <td>Yes</td>\n",
       "      <td>No</td>\n",
       "      <td>No</td>\n",
       "      <td>No</td>\n",
       "      <td>NaN</td>\n",
       "      <td>Urban</td>\n",
       "      <td>30 - 44</td>\n",
       "      <td>Male</td>\n",
       "      <td>$200,000 and up</td>\n",
       "      <td>Pacific</td>\n",
       "    </tr>\n",
       "    <tr>\n",
       "      <th>4</th>\n",
       "      <td>4337931983</td>\n",
       "      <td>Yes</td>\n",
       "      <td>Tofurkey</td>\n",
       "      <td>NaN</td>\n",
       "      <td>Baked</td>\n",
       "      <td>NaN</td>\n",
       "      <td>Bread-based</td>\n",
       "      <td>NaN</td>\n",
       "      <td>Canned</td>\n",
       "      <td>NaN</td>\n",
       "      <td>...</td>\n",
       "      <td>Yes</td>\n",
       "      <td>No</td>\n",
       "      <td>No</td>\n",
       "      <td>No</td>\n",
       "      <td>NaN</td>\n",
       "      <td>Urban</td>\n",
       "      <td>30 - 44</td>\n",
       "      <td>Male</td>\n",
       "      <td>$100,000 to $124,999</td>\n",
       "      <td>Pacific</td>\n",
       "    </tr>\n",
       "  </tbody>\n",
       "</table>\n",
       "<p>5 rows × 65 columns</p>\n",
       "</div>"
      ],
      "text/plain": [
       "   RespondentID Do you celebrate Thanksgiving?  \\\n",
       "0    4337954960                            Yes   \n",
       "1    4337951949                            Yes   \n",
       "2    4337935621                            Yes   \n",
       "3    4337933040                            Yes   \n",
       "4    4337931983                            Yes   \n",
       "\n",
       "  What is typically the main dish at your Thanksgiving dinner?  \\\n",
       "0                                             Turkey             \n",
       "1                                             Turkey             \n",
       "2                                             Turkey             \n",
       "3                                             Turkey             \n",
       "4                                           Tofurkey             \n",
       "\n",
       "  What is typically the main dish at your Thanksgiving dinner? - Other (please specify)  \\\n",
       "0                                                NaN                                      \n",
       "1                                                NaN                                      \n",
       "2                                                NaN                                      \n",
       "3                                                NaN                                      \n",
       "4                                                NaN                                      \n",
       "\n",
       "  How is the main dish typically cooked?  \\\n",
       "0                                  Baked   \n",
       "1                                  Baked   \n",
       "2                                Roasted   \n",
       "3                                  Baked   \n",
       "4                                  Baked   \n",
       "\n",
       "  How is the main dish typically cooked? - Other (please specify)  \\\n",
       "0                                                NaN                \n",
       "1                                                NaN                \n",
       "2                                                NaN                \n",
       "3                                                NaN                \n",
       "4                                                NaN                \n",
       "\n",
       "  What kind of stuffing/dressing do you typically have?  \\\n",
       "0                                        Bread-based      \n",
       "1                                        Bread-based      \n",
       "2                                         Rice-based      \n",
       "3                                        Bread-based      \n",
       "4                                        Bread-based      \n",
       "\n",
       "  What kind of stuffing/dressing do you typically have? - Other (please specify)  \\\n",
       "0                                                NaN                               \n",
       "1                                                NaN                               \n",
       "2                                                NaN                               \n",
       "3                                                NaN                               \n",
       "4                                                NaN                               \n",
       "\n",
       "  What type of cranberry saucedo you typically have?  \\\n",
       "0                                               None   \n",
       "1                             Other (please specify)   \n",
       "2                                           Homemade   \n",
       "3                                           Homemade   \n",
       "4                                             Canned   \n",
       "\n",
       "  What type of cranberry saucedo you typically have? - Other (please specify)  \\\n",
       "0                                                NaN                            \n",
       "1                    Homemade cranberry gelatin ring                            \n",
       "2                                                NaN                            \n",
       "3                                                NaN                            \n",
       "4                                                NaN                            \n",
       "\n",
       "          ...          \\\n",
       "0         ...           \n",
       "1         ...           \n",
       "2         ...           \n",
       "3         ...           \n",
       "4         ...           \n",
       "\n",
       "  Have you ever tried to meet up with hometown friends on Thanksgiving night?  \\\n",
       "0                                                Yes                            \n",
       "1                                                 No                            \n",
       "2                                                Yes                            \n",
       "3                                                Yes                            \n",
       "4                                                Yes                            \n",
       "\n",
       "  Have you ever attended a \"Friendsgiving?\"  \\\n",
       "0                                        No   \n",
       "1                                        No   \n",
       "2                                       Yes   \n",
       "3                                        No   \n",
       "4                                        No   \n",
       "\n",
       "  Will you shop any Black Friday sales on Thanksgiving Day?  \\\n",
       "0                                                 No          \n",
       "1                                                Yes          \n",
       "2                                                Yes          \n",
       "3                                                 No          \n",
       "4                                                 No          \n",
       "\n",
       "  Do you work in retail? Will you employer make you work on Black Friday?  \\\n",
       "0                     No                                              NaN   \n",
       "1                     No                                              NaN   \n",
       "2                     No                                              NaN   \n",
       "3                     No                                              NaN   \n",
       "4                     No                                              NaN   \n",
       "\n",
       "  How would you describe where you live?      Age What is your gender?  \\\n",
       "0                               Suburban  18 - 29                 Male   \n",
       "1                                  Rural  18 - 29               Female   \n",
       "2                               Suburban  18 - 29                 Male   \n",
       "3                                  Urban  30 - 44                 Male   \n",
       "4                                  Urban  30 - 44                 Male   \n",
       "\n",
       "  How much total combined money did all members of your HOUSEHOLD earn last year?  \\\n",
       "0                                 $75,000 to $99,999                                \n",
       "1                                 $50,000 to $74,999                                \n",
       "2                                       $0 to $9,999                                \n",
       "3                                    $200,000 and up                                \n",
       "4                               $100,000 to $124,999                                \n",
       "\n",
       "            US Region  \n",
       "0     Middle Atlantic  \n",
       "1  East South Central  \n",
       "2            Mountain  \n",
       "3             Pacific  \n",
       "4             Pacific  \n",
       "\n",
       "[5 rows x 65 columns]"
      ]
     },
     "execution_count": 1,
     "metadata": {},
     "output_type": "execute_result"
    }
   ],
   "source": [
    "import pandas as pd\n",
    "data = pd.read_csv('thanksgiving.csv', encoding=\"Latin-1\")\n",
    "data.head()"
   ]
  },
  {
   "cell_type": "code",
   "execution_count": 2,
   "metadata": {},
   "outputs": [
    {
     "data": {
      "text/plain": [
       "Yes    980\n",
       "No      78\n",
       "Name: Do you celebrate Thanksgiving?, dtype: int64"
      ]
     },
     "execution_count": 2,
     "metadata": {},
     "output_type": "execute_result"
    }
   ],
   "source": [
    "data['Do you celebrate Thanksgiving?'].value_counts()"
   ]
  },
  {
   "cell_type": "code",
   "execution_count": 3,
   "metadata": {},
   "outputs": [],
   "source": [
    "# choose all observations that celebrated Thanksgiving \n",
    "data_celebrated = data[data['Do you celebrate Thanksgiving?'] == 'Yes']"
   ]
  },
  {
   "cell_type": "code",
   "execution_count": 4,
   "metadata": {},
   "outputs": [
    {
     "data": {
      "text/plain": [
       "Turkey                    859\n",
       "Other (please specify)     35\n",
       "Ham/Pork                   29\n",
       "Tofurkey                   20\n",
       "Chicken                    12\n",
       "Roast beef                 11\n",
       "I don't know                5\n",
       "Turducken                   3\n",
       "Name: What is typically the main dish at your Thanksgiving dinner?, dtype: int64"
      ]
     },
     "execution_count": 4,
     "metadata": {},
     "output_type": "execute_result"
    }
   ],
   "source": [
    "# the most popular main dish at Thanksgiving is not surprise\n",
    "data_celebrated['What is typically the main dish at your Thanksgiving dinner?'].value_counts()"
   ]
  },
  {
   "cell_type": "code",
   "execution_count": 5,
   "metadata": {},
   "outputs": [
    {
     "data": {
      "text/plain": [
       "Yes    12\n",
       "No      8\n",
       "Name: Do you typically have gravy?, dtype: int64"
      ]
     },
     "execution_count": 5,
     "metadata": {},
     "output_type": "execute_result"
    }
   ],
   "source": [
    "tofurkey = data_celebrated[data_celebrated['What is typically the main dish at your Thanksgiving dinner?'] == 'Tofurkey']\n",
    "tofurkey['Do you typically have gravy?'].value_counts()\n",
    "# there are 12 cases when people who has tofurkey as main dish got a gravy"
   ]
  },
  {
   "cell_type": "code",
   "execution_count": 6,
   "metadata": {},
   "outputs": [
    {
     "data": {
      "text/plain": [
       "False    0.893878\n",
       "True     0.106122\n",
       "dtype: float64"
      ]
     },
     "execution_count": 6,
     "metadata": {},
     "output_type": "execute_result"
    }
   ],
   "source": [
    "apple_isnull = pd.isnull(data_celebrated['Which type of pie is typically served at your Thanksgiving dinner? Please select all that apply. - Apple'])\n",
    "pumpkin_isnull = pd.isnull(data_celebrated['Which type of pie is typically served at your Thanksgiving dinner? Please select all that apply. - Pumpkin'])\n",
    "pecan_isnull = pd.isnull(data_celebrated['Which type of pie is typically served at your Thanksgiving dinner? Please select all that apply. - Pecan'])\n",
    "no_pie = apple_isnull&pumpkin_isnull&pecan_isnull\n",
    "no_pie.value_counts(normalize=True)\n",
    "# there are 10,6% without pie on Thanksgiving dinner"
   ]
  },
  {
   "cell_type": "code",
   "execution_count": 7,
   "metadata": {},
   "outputs": [],
   "source": [
    "def convert_int_age(string):\n",
    "    if pd.isnull(string):\n",
    "        return None\n",
    "    result = string.split(' ')\n",
    "    first_res = result[0].replace('+','')\n",
    "    res = int(first_res)\n",
    "    return res"
   ]
  },
  {
   "cell_type": "code",
   "execution_count": 8,
   "metadata": {
    "scrolled": true
   },
   "outputs": [
    {
     "name": "stderr",
     "output_type": "stream",
     "text": [
      "C:\\Users\\CHE\\Anaconda3\\lib\\site-packages\\ipykernel_launcher.py:1: SettingWithCopyWarning: \n",
      "A value is trying to be set on a copy of a slice from a DataFrame.\n",
      "Try using .loc[row_indexer,col_indexer] = value instead\n",
      "\n",
      "See the caveats in the documentation: http://pandas.pydata.org/pandas-docs/stable/indexing.html#indexing-view-versus-copy\n",
      "  \"\"\"Entry point for launching an IPython kernel.\n"
     ]
    },
    {
     "data": {
      "text/plain": [
       "count    947.000000\n",
       "mean      40.089757\n",
       "std       15.352014\n",
       "min       18.000000\n",
       "25%       30.000000\n",
       "50%       45.000000\n",
       "75%       60.000000\n",
       "max       60.000000\n",
       "Name: int_age, dtype: float64"
      ]
     },
     "execution_count": 8,
     "metadata": {},
     "output_type": "execute_result"
    }
   ],
   "source": [
    "data_celebrated['int_age'] = data_celebrated['Age'].apply(convert_int_age)# integer convert respondent age\n",
    "data_celebrated['int_age'].describe()"
   ]
  },
  {
   "cell_type": "code",
   "execution_count": 9,
   "metadata": {
    "scrolled": true
   },
   "outputs": [
    {
     "name": "stderr",
     "output_type": "stream",
     "text": [
      "C:\\Users\\CHE\\Anaconda3\\lib\\site-packages\\ipykernel_launcher.py:10: SettingWithCopyWarning: \n",
      "A value is trying to be set on a copy of a slice from a DataFrame.\n",
      "Try using .loc[row_indexer,col_indexer] = value instead\n",
      "\n",
      "See the caveats in the documentation: http://pandas.pydata.org/pandas-docs/stable/indexing.html#indexing-view-versus-copy\n",
      "  # Remove the CWD from sys.path while we load stuff.\n"
     ]
    },
    {
     "data": {
      "text/plain": [
       "count       829.000000\n",
       "mean      75965.018094\n",
       "std       59068.636748\n",
       "min           0.000000\n",
       "25%       25000.000000\n",
       "50%       75000.000000\n",
       "75%      100000.000000\n",
       "max      200000.000000\n",
       "Name: int_income, dtype: float64"
      ]
     },
     "execution_count": 9,
     "metadata": {},
     "output_type": "execute_result"
    }
   ],
   "source": [
    "def convert_int_income(string):\n",
    "    if pd.isnull(string):\n",
    "        return None\n",
    "    if string == 'Prefer not to answer':\n",
    "        return None\n",
    "    result = int(string.split(' ')[0].replace('$','').replace(',',''))\n",
    "    return result\n",
    "\n",
    "# integer convert family income\n",
    "data_celebrated['int_income'] = data_celebrated['How much total combined money did all members of your HOUSEHOLD earn last year?'].apply(convert_int_income)\n",
    "data_celebrated['int_income'].describe()"
   ]
  },
  {
   "cell_type": "code",
   "execution_count": 10,
   "metadata": {},
   "outputs": [
    {
     "data": {
      "text/plain": [
       "Thanksgiving is happening at my home--I won't travel at all                         281\n",
       "Thanksgiving is local--it will take place in the town I live in                     203\n",
       "Thanksgiving is out of town but not too far--it's a drive of a few hours or less    150\n",
       "Thanksgiving is out of town and far away--I have to drive several hours or fly       55\n",
       "Name: How far will you travel for Thanksgiving?, dtype: int64"
      ]
     },
     "execution_count": 10,
     "metadata": {},
     "output_type": "execute_result"
    }
   ],
   "source": [
    "# research does people with income less 150k usually travel on Thanksgiving\n",
    "data_under_150Kincome = data_celebrated[data_celebrated['int_income'] < 150000]\n",
    "data_under_150Kincome['How far will you travel for Thanksgiving?'].value_counts()"
   ]
  },
  {
   "cell_type": "code",
   "execution_count": 11,
   "metadata": {},
   "outputs": [
    {
     "data": {
      "text/plain": [
       "Thanksgiving is happening at my home--I won't travel at all                         49\n",
       "Thanksgiving is local--it will take place in the town I live in                     25\n",
       "Thanksgiving is out of town but not too far--it's a drive of a few hours or less    16\n",
       "Thanksgiving is out of town and far away--I have to drive several hours or fly      12\n",
       "Name: How far will you travel for Thanksgiving?, dtype: int64"
      ]
     },
     "execution_count": 11,
     "metadata": {},
     "output_type": "execute_result"
    }
   ],
   "source": [
    "# research does people with income more 150k usually travel on Thanksgiving\n",
    "data_over_150Kincome = data_celebrated[data_celebrated['int_income'] > 150000]\n",
    "data_over_150Kincome['How far will you travel for Thanksgiving?'].value_counts()"
   ]
  },
  {
   "cell_type": "code",
   "execution_count": 12,
   "metadata": {},
   "outputs": [
    {
     "data": {
      "text/html": [
       "<div>\n",
       "<style>\n",
       "    .dataframe thead tr:only-child th {\n",
       "        text-align: right;\n",
       "    }\n",
       "\n",
       "    .dataframe thead th {\n",
       "        text-align: left;\n",
       "    }\n",
       "\n",
       "    .dataframe tbody tr th {\n",
       "        vertical-align: top;\n",
       "    }\n",
       "</style>\n",
       "<table border=\"1\" class=\"dataframe\">\n",
       "  <thead>\n",
       "    <tr style=\"text-align: right;\">\n",
       "      <th>Have you ever attended a \"Friendsgiving?\"</th>\n",
       "      <th>No</th>\n",
       "      <th>Yes</th>\n",
       "    </tr>\n",
       "    <tr>\n",
       "      <th>Have you ever tried to meet up with hometown friends on Thanksgiving night?</th>\n",
       "      <th></th>\n",
       "      <th></th>\n",
       "    </tr>\n",
       "  </thead>\n",
       "  <tbody>\n",
       "    <tr>\n",
       "      <th>No</th>\n",
       "      <td>42.283702</td>\n",
       "      <td>37.010526</td>\n",
       "    </tr>\n",
       "    <tr>\n",
       "      <th>Yes</th>\n",
       "      <td>41.475410</td>\n",
       "      <td>33.976744</td>\n",
       "    </tr>\n",
       "  </tbody>\n",
       "</table>\n",
       "</div>"
      ],
      "text/plain": [
       "Have you ever attended a \"Friendsgiving?\"                  No        Yes\n",
       "Have you ever tried to meet up with hometown fr...                      \n",
       "No                                                  42.283702  37.010526\n",
       "Yes                                                 41.475410  33.976744"
      ]
     },
     "execution_count": 12,
     "metadata": {},
     "output_type": "execute_result"
    }
   ],
   "source": [
    "data_celebrated.pivot_table(index=\"Have you ever tried to meet up with hometown friends on Thanksgiving night?\",\n",
    "                 columns='Have you ever attended a \"Friendsgiving?\"',\n",
    "                 values='int_age')\n",
    "# pivot table of average respondent age who commonly celebrate Thanksgiving with friends"
   ]
  },
  {
   "cell_type": "code",
   "execution_count": 13,
   "metadata": {},
   "outputs": [
    {
     "name": "stdout",
     "output_type": "stream",
     "text": [
      "Apple cobbler    110\n",
      "Name: Which of these desserts do you typically have at Thanksgiving dinner? Please select all that apply.   - Apple cobbler, dtype: int64\n",
      "Blondies    16\n",
      "Name: Which of these desserts do you typically have at Thanksgiving dinner? Please select all that apply.   - Blondies, dtype: int64\n",
      "Brownies    128\n",
      "Name: Which of these desserts do you typically have at Thanksgiving dinner? Please select all that apply.   - Brownies, dtype: int64\n",
      "Carrot cake    72\n",
      "Name: Which of these desserts do you typically have at Thanksgiving dinner? Please select all that apply.   - Carrot cake, dtype: int64\n",
      "Cheesecake    191\n",
      "Name: Which of these desserts do you typically have at Thanksgiving dinner? Please select all that apply.   - Cheesecake, dtype: int64\n",
      "Cookies    204\n",
      "Name: Which of these desserts do you typically have at Thanksgiving dinner? Please select all that apply.   - Cookies, dtype: int64\n",
      "Fudge    43\n",
      "Name: Which of these desserts do you typically have at Thanksgiving dinner? Please select all that apply.   - Fudge, dtype: int64\n",
      "Ice cream    266\n",
      "Name: Which of these desserts do you typically have at Thanksgiving dinner? Please select all that apply.   - Ice cream, dtype: int64\n",
      "Peach cobbler    103\n",
      "Name: Which of these desserts do you typically have at Thanksgiving dinner? Please select all that apply.   - Peach cobbler, dtype: int64\n"
     ]
    }
   ],
   "source": [
    "data_desserts = data.loc[:,'Which of these desserts do you typically have at Thanksgiving dinner? Please select all that apply.   - Apple cobbler':\n",
    "     'Which of these desserts do you typically have at Thanksgiving dinner? Please select all that apply.   - Peach cobbler']\n",
    "for d in data_desserts:\n",
    "    dessert = data_desserts[d].apply(lambda s: None if pd.isnull(s) else s)\n",
    "    print(dessert.value_counts())\n",
    "# determine hieracrhy of desserts popularity"
   ]
  },
  {
   "cell_type": "code",
   "execution_count": 14,
   "metadata": {},
   "outputs": [],
   "source": [
    "data_sid_dishes = data_celebrated.loc[:,'Which of these side dishes aretypically served at your Thanksgiving dinner? Please select all that apply. - Brussel sprouts'\n",
    "                    :'Which of these side dishes aretypically served at your Thanksgiving dinner? Please select all that apply. - Yams/sweet potato casserole']\n",
    "data_pies = data_celebrated.loc[:,'Which type of pie is typically served at your Thanksgiving dinner? Please select all that apply. - Apple'\n",
    "              :'Which type of pie is typically served at your Thanksgiving dinner? Please select all that apply. - Sweet Potato']"
   ]
  },
  {
   "cell_type": "code",
   "execution_count": 15,
   "metadata": {},
   "outputs": [],
   "source": [
    "def most_common_dishes(df):\n",
    "    most_common = 0\n",
    "    for d in df:\n",
    "        current_value = df[d].apply(lambda s: None if pd.isnull(s) else s).value_counts().max()\n",
    "        if most_common < current_value: \n",
    "            most_common = current_value\n",
    "            most_common_name = df[d].apply(lambda  s: None if pd.isnull(s) else s).value_counts().name\n",
    "    return  [most_common_name, most_common]     "
   ]
  },
  {
   "cell_type": "code",
   "execution_count": 16,
   "metadata": {},
   "outputs": [
    {
     "name": "stdout",
     "output_type": "stream",
     "text": [
      "Turkey\n",
      "['Which of these side dishes aretypically served at your Thanksgiving dinner? Please select all that apply. - Mashed potatoes', 817]\n",
      "['Which of these desserts do you typically have at Thanksgiving dinner? Please select all that apply.   - Ice cream', 266]\n",
      "['Which type of pie is typically served at your Thanksgiving dinner? Please select all that apply. - Pumpkin', 729]\n"
     ]
    }
   ],
   "source": [
    "data_sets = [data_sid_dishes,data_desserts,data_pies]\n",
    "print(data_celebrated['What is typically the main dish at your Thanksgiving dinner?'].value_counts().index[0])\n",
    "for d in data_sets:\n",
    "    print(most_common_dishes(d))\n",
    "# most common dishes at Thanksgiving dinner"
   ]
  },
  {
   "cell_type": "code",
   "execution_count": 17,
   "metadata": {},
   "outputs": [
    {
     "name": "stdout",
     "output_type": "stream",
     "text": [
      "Which percentage of respondents worked on the Thanksgiving day:  7\n"
     ]
    }
   ],
   "source": [
    "print('Which percentage of respondents worked on the Thanksgiving day: ',round(data['Do you work in retail?'].value_counts(normalize=True).tolist()[1]*100))"
   ]
  },
  {
   "cell_type": "code",
   "execution_count": 18,
   "metadata": {
    "scrolled": false
   },
   "outputs": [
    {
     "name": "stdout",
     "output_type": "stream",
     "text": [
      "Region:  South Atlantic\n",
      "Turkey\n",
      "['Which of these side dishes aretypically served at your Thanksgiving dinner? Please select all that apply. - Rolls/biscuits', 158]\n",
      "['Which of these desserts do you typically have at Thanksgiving dinner? Please select all that apply.   - Ice cream', 56]\n",
      "['Which type of pie is typically served at your Thanksgiving dinner? Please select all that apply. - Pumpkin', 135] \n",
      "\n",
      "Region:  East North Central\n",
      "Turkey\n",
      "['Which of these side dishes aretypically served at your Thanksgiving dinner? Please select all that apply. - Mashed potatoes', 127]\n",
      "['Which of these desserts do you typically have at Thanksgiving dinner? Please select all that apply.   - Ice cream', 41]\n",
      "['Which type of pie is typically served at your Thanksgiving dinner? Please select all that apply. - Pumpkin', 113] \n",
      "\n",
      "Region:  Middle Atlantic\n",
      "Turkey\n",
      "['Which of these side dishes aretypically served at your Thanksgiving dinner? Please select all that apply. - Mashed potatoes', 130]\n",
      "['Which of these desserts do you typically have at Thanksgiving dinner? Please select all that apply.   - Ice cream', 51]\n",
      "['Which type of pie is typically served at your Thanksgiving dinner? Please select all that apply. - Pumpkin', 115] \n",
      "\n",
      "Region:  Pacific\n",
      "Turkey\n",
      "['Which of these side dishes aretypically served at your Thanksgiving dinner? Please select all that apply. - Mashed potatoes', 112]\n",
      "['Which of these desserts do you typically have at Thanksgiving dinner? Please select all that apply.   - Ice cream', 32]\n",
      "['Which type of pie is typically served at your Thanksgiving dinner? Please select all that apply. - Pumpkin', 105] \n",
      "\n",
      "Region:  "
     ]
    },
    {
     "name": "stderr",
     "output_type": "stream",
     "text": [
      "C:\\Users\\CHE\\Anaconda3\\lib\\site-packages\\ipykernel_launcher.py:5: RuntimeWarning: invalid value encountered in less\n",
      "  \"\"\"\n"
     ]
    },
    {
     "name": "stdout",
     "output_type": "stream",
     "text": [
      "West South Central\n",
      "Turkey\n",
      "['Which of these side dishes aretypically served at your Thanksgiving dinner? Please select all that apply. - Rolls/biscuits', 73]\n",
      "['Which of these desserts do you typically have at Thanksgiving dinner? Please select all that apply.   - Ice cream', 23]\n",
      "['Which type of pie is typically served at your Thanksgiving dinner? Please select all that apply. - Pumpkin', 68] \n",
      "\n",
      "Region:  West North Central\n",
      "Turkey\n",
      "['Which of these side dishes aretypically served at your Thanksgiving dinner? Please select all that apply. - Mashed potatoes', 65]\n",
      "['Which of these desserts do you typically have at Thanksgiving dinner? Please select all that apply.   - Cookies', 16]\n",
      "['Which type of pie is typically served at your Thanksgiving dinner? Please select all that apply. - Pumpkin', 57] \n",
      "\n",
      "Region:  East South Central\n",
      "Turkey\n",
      "['Which of these side dishes aretypically served at your Thanksgiving dinner? Please select all that apply. - Green beans/green bean casserole', 49]\n",
      "['Which of these desserts do you typically have at Thanksgiving dinner? Please select all that apply.   - Cheesecake', 13]\n",
      "['Which type of pie is typically served at your Thanksgiving dinner? Please select all that apply. - Pumpkin', 38] \n",
      "\n",
      "Region:  New England\n",
      "Turkey\n",
      "['Which of these side dishes aretypically served at your Thanksgiving dinner? Please select all that apply. - Mashed potatoes', 52]\n",
      "['Which of these desserts do you typically have at Thanksgiving dinner? Please select all that apply.   - Ice cream', 21]\n",
      "['Which type of pie is typically served at your Thanksgiving dinner? Please select all that apply. - Pumpkin', 46] \n",
      "\n",
      "Region:  Mountain\n",
      "Turkey\n",
      "['Which of these side dishes aretypically served at your Thanksgiving dinner? Please select all that apply. - Mashed potatoes', 38]\n",
      "['Which of these desserts do you typically have at Thanksgiving dinner? Please select all that apply.   - Ice cream', 11]\n",
      "['Which type of pie is typically served at your Thanksgiving dinner? Please select all that apply. - Pumpkin', 34] \n",
      "\n"
     ]
    }
   ],
   "source": [
    "list_region = data_celebrated['US Region'].value_counts().index \n",
    "for l in list_region:\n",
    "    print('Region: ',l)\n",
    "    data_region = data_celebrated[data_celebrated['US Region'] == l]\n",
    "    print(data_region['What is typically the main dish at your Thanksgiving dinner?'].value_counts().index[0])\n",
    "    data_region_sid = data_region.loc[:,'Which of these side dishes aretypically served at your Thanksgiving dinner? Please select all that apply. - Brussel sprouts'\n",
    "                    :'Which of these side dishes aretypically served at your Thanksgiving dinner? Please select all that apply. - Yams/sweet potato casserole']\n",
    "    print(most_common_dishes(data_region_sid))\n",
    "    data_region_dessert = data_region.loc[:,'Which of these desserts do you typically have at Thanksgiving dinner? Please select all that apply.   - Apple cobbler':\n",
    "     'Which of these desserts do you typically have at Thanksgiving dinner? Please select all that apply.   - Peach cobbler']\n",
    "    print(most_common_dishes(data_region_dessert))\n",
    "    data_region_pies = data_region.loc[:,'Which type of pie is typically served at your Thanksgiving dinner? Please select all that apply. - Apple'\n",
    "              :'Which type of pie is typically served at your Thanksgiving dinner? Please select all that apply. - Sweet Potato']\n",
    "    print(most_common_dishes(data_region_pies),'\\n')\n",
    "# most popular Thanksgiving dinner's dishes aggregated by regions"
   ]
  },
  {
   "cell_type": "code",
   "execution_count": 19,
   "metadata": {
    "collapsed": true
   },
   "outputs": [],
   "source": [
    "def find_dinner_pattern(df,column):\n",
    "    col_values_list = df[column].value_counts().index\n",
    "    for value in col_values_list:\n",
    "        print(str(value))\n",
    "        data_value = df[df[column] == value]\n",
    "        print(data_value['What is typically the main dish at your Thanksgiving dinner?'].value_counts().index[0])\n",
    "        data_value_sid = data_value.loc[:,'Which of these side dishes aretypically served at your Thanksgiving dinner? Please select all that apply. - Brussel sprouts'\n",
    "                                           :'Which of these side dishes aretypically served at your Thanksgiving dinner? Please select all that apply. - Yams/sweet potato casserole']\n",
    "        print(most_common_dishes(data_value_sid))\n",
    "        data_value_dessert = data_value.loc[:,'Which of these desserts do you typically have at Thanksgiving dinner? Please select all that apply.   - Apple cobbler'\n",
    "                                               :'Which of these desserts do you typically have at Thanksgiving dinner? Please select all that apply.   - Peach cobbler']\n",
    "        print(most_common_dishes(data_value_dessert))\n",
    "        data_value_pies = data_value.loc[:,'Which type of pie is typically served at your Thanksgiving dinner? Please select all that apply. - Apple'\n",
    "                                            :'Which type of pie is typically served at your Thanksgiving dinner? Please select all that apply. - Sweet Potato']\n",
    "        print(most_common_dishes(data_value_pies),'\\n')\n",
    "        "
   ]
  },
  {
   "cell_type": "code",
   "execution_count": 20,
   "metadata": {},
   "outputs": [
    {
     "name": "stdout",
     "output_type": "stream",
     "text": [
      "Age column bassed pattern in dinner menus: \n",
      "\n",
      "45 - 59\n",
      "Turkey\n",
      "['Which of these side dishes aretypically served at your Thanksgiving dinner? Please select all that apply. - Mashed potatoes', 236]\n",
      "['Which of these desserts do you typically have at Thanksgiving dinner? Please select all that apply.   - Ice cream', 65]\n",
      "['Which type of pie is typically served at your Thanksgiving dinner? Please select all that apply. - Pumpkin', 197] \n",
      "\n",
      "60+\n",
      "Turkey\n",
      "['Which of these side dishes aretypically served at your Thanksgiving dinner? Please select all that apply. - Mashed potatoes', 208]\n",
      "['Which of these desserts do you typically have at Thanksgiving dinner? Please select all that apply.   - Ice cream', 62]\n",
      "['Which type of pie is typically served at your Thanksgiving dinner? Please select all that apply. - Pumpkin', 193] \n",
      "\n",
      "30 - 44\n",
      "Turkey\n",
      "['Which of these side dishes aretypically served at your Thanksgiving dinner? Please select all that apply. - Mashed potatoes', 201]\n",
      "['Which of these desserts do you typically have at Thanksgiving dinner? Please select all that apply.   - Ice cream', 60]\n",
      "['Which type of pie is typically served at your Thanksgiving dinner? Please select all that apply. - Pumpkin', 182] \n",
      "\n",
      "18 - 29\n",
      "Turkey\n",
      "['Which of these side dishes aretypically served at your Thanksgiving dinner? Please select all that apply. - Mashed potatoes', 160]\n",
      "['Which of these desserts do you typically have at Thanksgiving dinner? Please select all that apply.   - Ice cream', 73]\n",
      "['Which type of pie is typically served at your Thanksgiving dinner? Please select all that apply. - Pumpkin', 146] \n",
      "\n",
      "What is your gender? column bassed pattern in dinner menus: \n",
      "\n",
      "Female\n",
      "Turkey\n",
      "['Which of these side dishes aretypically served at your Thanksgiving dinner? Please select all that apply. - Mashed potatoes', 439]\n",
      "['Which of these desserts do you typically have at Thanksgiving dinner? Please select all that apply.   - Ice cream', 132]\n",
      "['Which type of pie is typically served at your Thanksgiving dinner? Please select all that apply. - Pumpkin', 399] \n",
      "\n",
      "Male\n",
      "Turkey\n",
      "['Which of these side dishes aretypically served at your Thanksgiving dinner? Please select all that apply. - Mashed potatoes', 366]\n",
      "['Which of these desserts do you typically have at Thanksgiving dinner? Please select all that apply.   - Ice cream', 128]\n",
      "['Which type of pie is typically served at your Thanksgiving dinner? Please select all that apply. - Pumpkin', 319] \n",
      "\n",
      "How much total combined money did all members of your HOUSEHOLD earn last year? column bassed pattern in dinner menus: \n",
      "\n",
      "$25,000 to $49,999\n",
      "Turkey\n",
      "['Which of these side dishes aretypically served at your Thanksgiving dinner? Please select all that apply. - Mashed potatoes', 137]\n",
      "['Which of these desserts do you typically have at Thanksgiving dinner? Please select all that apply.   - Ice cream', 41]\n",
      "['Which type of pie is typically served at your Thanksgiving dinner? Please select all that apply. - Pumpkin', 128] \n",
      "\n",
      "$50,000 to $74,999\n",
      "Turkey\n",
      "['Which of these side dishes aretypically served at your Thanksgiving dinner? Please select all that apply. - Mashed potatoes', 109]\n",
      "['Which of these desserts do you typically have at Thanksgiving dinner? Please select all that apply.   - Ice cream', 36]\n",
      "['Which type of pie is typically served at your Thanksgiving dinner? Please select all that apply. - Pumpkin', 98] \n",
      "\n",
      "$75,000 to $99,999\n",
      "Turkey\n",
      "['Which of these side dishes aretypically served at your Thanksgiving dinner? Please select all that apply. - Mashed potatoes', 113]\n",
      "['Which of these desserts do you typically have at Thanksgiving dinner? Please select all that apply.   - Ice cream', 32]\n",
      "['Which type of pie is typically served at your Thanksgiving dinner? Please select all that apply. - Pumpkin', 95] \n",
      "\n",
      "Prefer not to answer\n",
      "Turkey\n",
      "['Which of these side dishes aretypically served at your Thanksgiving dinner? Please select all that apply. - Mashed potatoes', 99]\n",
      "['Which of these desserts do you typically have at Thanksgiving dinner? Please select all that apply.   - Ice cream', 39]\n",
      "['Which type of pie is typically served at your Thanksgiving dinner? Please select all that apply. - Pumpkin', 90] \n",
      "\n",
      "$100,000 to $124,999\n",
      "Turkey\n",
      "['Which of these side dishes aretypically served at your Thanksgiving dinner? Please select all that apply. - Mashed potatoes', 93]\n",
      "['Which of these desserts do you typically have at Thanksgiving dinner? Please select all that apply.   - Ice cream', 27]\n",
      "['Which type of pie is typically served at your Thanksgiving dinner? Please select all that apply. - Pumpkin', 86] \n",
      "\n",
      "$200,000 and up\n",
      "Turkey\n",
      "['Which of these side dishes aretypically served at your Thanksgiving dinner? Please select all that apply. - Mashed potatoes', 65]\n",
      "['Which of these desserts do you typically have at Thanksgiving dinner? Please select all that apply.   - Ice cream', 24]\n",
      "['Which type of pie is typically served at your Thanksgiving dinner? Please select all that apply. - Pumpkin', 59] \n",
      "\n",
      "$10,000 to $24,999\n",
      "Turkey\n",
      "['Which of these side dishes aretypically served at your Thanksgiving dinner? Please select all that apply. - Mashed potatoes', 48]\n",
      "['Which of these desserts do you typically have at Thanksgiving dinner? Please select all that apply.   - Ice cream', 19]\n",
      "['Which type of pie is typically served at your Thanksgiving dinner? Please select all that apply. - Pumpkin', 44] \n",
      "\n",
      "$0 to $9,999\n",
      "Turkey\n",
      "['Which of these side dishes aretypically served at your Thanksgiving dinner? Please select all that apply. - Mashed potatoes', 39]\n",
      "['Which of these desserts do you typically have at Thanksgiving dinner? Please select all that apply.   - Ice cream', 17]\n",
      "['Which type of pie is typically served at your Thanksgiving dinner? Please select all that apply. - Pumpkin', 35] \n",
      "\n",
      "$125,000 to $149,999\n",
      "Turkey\n",
      "['Which of these side dishes aretypically served at your Thanksgiving dinner? Please select all that apply. - Mashed potatoes', 43]\n",
      "['Which of these desserts do you typically have at Thanksgiving dinner? Please select all that apply.   - Ice cream', 13]\n",
      "['Which type of pie is typically served at your Thanksgiving dinner? Please select all that apply. - Pumpkin', 38] \n",
      "\n",
      "$150,000 to $174,999\n",
      "Turkey\n",
      "['Which of these side dishes aretypically served at your Thanksgiving dinner? Please select all that apply. - Mashed potatoes', 35]\n",
      "['Which of these desserts do you typically have at Thanksgiving dinner? Please select all that apply.   - Ice cream', 8]\n",
      "['Which type of pie is typically served at your Thanksgiving dinner? Please select all that apply. - Pumpkin', 26] \n",
      "\n",
      "$175,000 to $199,999\n",
      "Turkey\n",
      "['Which of these side dishes aretypically served at your Thanksgiving dinner? Please select all that apply. - Mashed potatoes', 24]\n",
      "['Which of these desserts do you typically have at Thanksgiving dinner? Please select all that apply.   - Cheesecake', 5]\n",
      "['Which type of pie is typically served at your Thanksgiving dinner? Please select all that apply. - Pumpkin', 19] \n",
      "\n"
     ]
    },
    {
     "name": "stderr",
     "output_type": "stream",
     "text": [
      "C:\\Users\\CHE\\Anaconda3\\lib\\site-packages\\ipykernel_launcher.py:5: RuntimeWarning: invalid value encountered in less\n",
      "  \"\"\"\n"
     ]
    }
   ],
   "source": [
    "list_columns = ['Age',\n",
    "                'What is your gender?',\n",
    "                'How much total combined money did all members of your HOUSEHOLD earn last year?']\n",
    "for l in list_columns:\n",
    "    print(l + ' column bassed pattern in dinner menus:','\\n')\n",
    "    find_dinner_pattern(data_celebrated, l)\n",
    "# determine dinner pattern for different groups by age, gender and family income"
   ]
  }
 ],
 "metadata": {
  "kernelspec": {
   "display_name": "Python 3",
   "language": "python",
   "name": "python3"
  },
  "language_info": {
   "codemirror_mode": {
    "name": "ipython",
    "version": 3
   },
   "file_extension": ".py",
   "mimetype": "text/x-python",
   "name": "python",
   "nbconvert_exporter": "python",
   "pygments_lexer": "ipython3",
   "version": "3.6.3"
  }
 },
 "nbformat": 4,
 "nbformat_minor": 1
}
